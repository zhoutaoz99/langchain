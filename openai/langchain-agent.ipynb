{
 "cells": [
  {
   "cell_type": "code",
   "outputs": [
    {
     "data": {
      "text/plain": "True"
     },
     "execution_count": 1,
     "metadata": {},
     "output_type": "execute_result"
    }
   ],
   "source": [
    "import os\n",
    "\n",
    "from dotenv import load_dotenv\n",
    "load_dotenv() #读取本地.env文件，里面定义了OPENAI_API_KEY和代理配置"
   ],
   "metadata": {
    "collapsed": false,
    "ExecuteTime": {
     "end_time": "2024-03-11T17:45:07.314989Z",
     "start_time": "2024-03-11T17:45:07.281734Z"
    }
   },
   "id": "d2871af0ddfc92a2",
   "execution_count": 1
  },
  {
   "cell_type": "code",
   "outputs": [],
   "source": [
    "from langchain_community.tools.tavily_search import TavilySearchResults\n",
    "search = TavilySearchResults()\n",
    "#search.invoke(\"what is the weather in SF\")"
   ],
   "metadata": {
    "collapsed": false,
    "ExecuteTime": {
     "end_time": "2024-03-11T17:45:08.065988Z",
     "start_time": "2024-03-11T17:45:07.317209Z"
    }
   },
   "id": "d44edc7fe30d27ab",
   "execution_count": 2
  },
  {
   "cell_type": "code",
   "outputs": [
    {
     "data": {
      "text/plain": "[SystemMessagePromptTemplate(prompt=PromptTemplate(input_variables=[], template='You are a helpful assistant')),\n MessagesPlaceholder(variable_name='chat_history', optional=True),\n HumanMessagePromptTemplate(prompt=PromptTemplate(input_variables=['input'], template='{input}')),\n MessagesPlaceholder(variable_name='agent_scratchpad')]"
     },
     "execution_count": 3,
     "metadata": {},
     "output_type": "execute_result"
    }
   ],
   "source": [
    "from llm.chat_open_ai import MyChatOpenAI\n",
    "\n",
    "tools = [search]\n",
    "\n",
    "llm = MyChatOpenAI(model=os.getenv(\"OPENAI_MODEL_NAME\"), temperature=0)\n",
    "from langchain import hub\n",
    "# Get the prompt to use - you can modify this!\n",
    "prompt = hub.pull(\"hwchase17/openai-tools-agent\")\n",
    "prompt.messages\n"
   ],
   "metadata": {
    "collapsed": false,
    "ExecuteTime": {
     "end_time": "2024-03-11T17:45:15.618115Z",
     "start_time": "2024-03-11T17:45:08.068064Z"
    }
   },
   "id": "b2968e4919d6dafd",
   "execution_count": 3
  },
  {
   "cell_type": "code",
   "outputs": [],
   "source": [
    "from langchain.agents import create_openai_tools_agent\n",
    "\n",
    "agent = create_openai_tools_agent(llm, tools, prompt)\n",
    "from langchain.agents import AgentExecutor\n",
    "\n",
    "agent_executor = AgentExecutor(agent=agent, tools=tools, verbose=True)\n"
   ],
   "metadata": {
    "collapsed": false,
    "ExecuteTime": {
     "end_time": "2024-03-11T17:45:17.680585Z",
     "start_time": "2024-03-11T17:45:15.620278Z"
    }
   },
   "id": "1a4d69e529f93684",
   "execution_count": 4
  },
  {
   "cell_type": "code",
   "outputs": [
    {
     "name": "stdout",
     "output_type": "stream",
     "text": [
      "\n",
      "\n",
      "\u001B[1m> Entering new AgentExecutor chain...\u001B[0m\n",
      "\n",
      "----------------messages----------------\n",
      "\n",
      "\n",
      "messages:[{'role': 'system', 'content': 'You are a helpful assistant'}, {'role': 'user', 'content': 'whats the weather in Beijing?'}]\n",
      "\n",
      "\n",
      "----------------messages end----------------\n",
      "\n",
      "----------------response----------------\n",
      "\n",
      "\n",
      "response:ChatCompletion(id='chatcmpl-91e06V9TMj3ZkoTr5h5dWFiL8Gsys', choices=[Choice(finish_reason='tool_calls', index=0, logprobs=None, message=ChatCompletionMessage(content=None, role='assistant', function_call=None, tool_calls=[ChatCompletionMessageToolCall(id='call_qy1wzthDrJyhhXtPvAsE1VxZ', function=Function(arguments='{\"query\":\"weather in Beijing\"}', name='tavily_search_results_json'), type='function')]))], created=1710179118, model='gpt-3.5-turbo-0125', object='chat.completion', system_fingerprint='fp_4f0b692a78', usage=CompletionUsage(completion_tokens=20, prompt_tokens=94, total_tokens=114))\n",
      "\n",
      "\n",
      "----------------response end----------------\n",
      "\n",
      "\u001B[32;1m\u001B[1;3m\n",
      "Invoking: `tavily_search_results_json` with `{'query': 'weather in Beijing'}`\n",
      "\n",
      "\n",
      "\u001B[0m\u001B[36;1m\u001B[1;3m[{'url': 'https://www.bbc.com/weather/1816670', 'content': '14-day weather forecast for Beijing.'}, {'url': 'https://www.meteoblue.com/en/weather/14-days/beijing_china_1816670', 'content': 'See the daily weather symbols, temperature and precipitation trend for Beijing for the next two weeks. The forecast is based on ensemble models and shows the uncertainty and reliability of the weather prediction.'}, {'url': 'https://www.accuweather.com/en/cn/beijing/101924/weather-forecast/101924', 'content': 'Get the current and forecast weather conditions for Beijing, China, including temperature, precipitation, air quality, and more. See the hourly and 10-day outlook for Beijing and plan your activities accordingly.'}, {'url': 'https://www.meteoblue.com/en/weather/week/beijing_china_1816670', 'content': '13:00 to 14:00:0% chance of precipitation in the area.0″ are predicted by our local models.\\n14:00 to 15:00:0% chance of precipitation in the area.0″ are predicted by our local models.\\n15:00 to 16:00:0% chance of precipitation in the area.0″ are predicted by our local models.\\n16:00 to 17:00:0% chance of precipitation in the area.0″ are predicted by our local models.\\n17:00 to 18:00:0% chance of precipitation in the area.0″ are predicted by our local models.\\n18:00 to 19:00:0% chance of precipitation in the area.0″ are predicted by our local models.\\n19:00 to 20:00:0% chance of precipitation in the area.0″ are predicted by our local models.\\n Storm Ingunn at Norway’s coast\\nA major storm will hit the West Coast of Norway on Wednesday evening, January 31st 2024.\\n00:00 to 01:00:0% chance of precipitation in the area.0″ are predicted by our local models.\\n01:00 to 02:00:0% chance of precipitation in the area.0″ are predicted by our local models.\\n02:00 to 03:00:0% chance of precipitation in the area.0″ are predicted by our local models.\\n03:00 to 04:00:0% chance of precipitation in the area.0″ are predicted by our local models.\\n04:00 to 05:00:0% chance of precipitation in the area.0″ are predicted by our local models.\\n Language\\nTemperature\\nWind speed\\nPrecipitation\\nDarkmode\\nWeather Beijing\\nForecast data improvements for France\\nAt the beginning of January, we added additional data sources for France to our forecast processing chain, resulting in improved data accuracy for France.\\n 05:00 to 06:00:0% chance of precipitation in the area.0″ are predicted by our local models.\\n06:00 to 07:00:0% chance of precipitation in the area.0″ are predicted by our local models.\\n 08:00 to 09:00:0% chance of precipitation in the area.0″ are predicted by our local models.\\n09:00 to 10:00:0% chance of precipitation in the area.0″ are predicted by our local models.\\n'}, {'url': 'https://www.timeanddate.com/weather/china/beijing/ext', 'content': 'Get the weather overview and details for Beijing, China for the next two weeks. See the temperature, precipitation, wind, humidity, UV, sunrise and sunset for each day.'}]\u001B[0m\n",
      "----------------messages----------------\n",
      "\n",
      "\n",
      "messages:[{'role': 'system', 'content': 'You are a helpful assistant'}, {'role': 'user', 'content': 'whats the weather in Beijing?'}, {'role': 'assistant', 'content': None, 'tool_calls': [{'id': 'call_qy1wzthDrJyhhXtPvAsE1VxZ', 'function': {'arguments': '{\"query\":\"weather in Beijing\"}', 'name': 'tavily_search_results_json'}, 'type': 'function'}]}, {'role': 'tool', 'content': '[{\"url\": \"https://www.bbc.com/weather/1816670\", \"content\": \"14-day weather forecast for Beijing.\"}, {\"url\": \"https://www.meteoblue.com/en/weather/14-days/beijing_china_1816670\", \"content\": \"See the daily weather symbols, temperature and precipitation trend for Beijing for the next two weeks. The forecast is based on ensemble models and shows the uncertainty and reliability of the weather prediction.\"}, {\"url\": \"https://www.accuweather.com/en/cn/beijing/101924/weather-forecast/101924\", \"content\": \"Get the current and forecast weather conditions for Beijing, China, including temperature, precipitation, air quality, and more. See the hourly and 10-day outlook for Beijing and plan your activities accordingly.\"}, {\"url\": \"https://www.meteoblue.com/en/weather/week/beijing_china_1816670\", \"content\": \"13:00 to 14:00:0% chance of precipitation in the area.0″ are predicted by our local models.\\\\n14:00 to 15:00:0% chance of precipitation in the area.0″ are predicted by our local models.\\\\n15:00 to 16:00:0% chance of precipitation in the area.0″ are predicted by our local models.\\\\n16:00 to 17:00:0% chance of precipitation in the area.0″ are predicted by our local models.\\\\n17:00 to 18:00:0% chance of precipitation in the area.0″ are predicted by our local models.\\\\n18:00 to 19:00:0% chance of precipitation in the area.0″ are predicted by our local models.\\\\n19:00 to 20:00:0% chance of precipitation in the area.0″ are predicted by our local models.\\\\n Storm Ingunn at Norway’s coast\\\\nA major storm will hit the West Coast of Norway on Wednesday evening, January 31st 2024.\\\\n00:00 to 01:00:0% chance of precipitation in the area.0″ are predicted by our local models.\\\\n01:00 to 02:00:0% chance of precipitation in the area.0″ are predicted by our local models.\\\\n02:00 to 03:00:0% chance of precipitation in the area.0″ are predicted by our local models.\\\\n03:00 to 04:00:0% chance of precipitation in the area.0″ are predicted by our local models.\\\\n04:00 to 05:00:0% chance of precipitation in the area.0″ are predicted by our local models.\\\\n Language\\\\nTemperature\\\\nWind speed\\\\nPrecipitation\\\\nDarkmode\\\\nWeather Beijing\\\\nForecast data improvements for France\\\\nAt the beginning of January, we added additional data sources for France to our forecast processing chain, resulting in improved data accuracy for France.\\\\n 05:00 to 06:00:0% chance of precipitation in the area.0″ are predicted by our local models.\\\\n06:00 to 07:00:0% chance of precipitation in the area.0″ are predicted by our local models.\\\\n 08:00 to 09:00:0% chance of precipitation in the area.0″ are predicted by our local models.\\\\n09:00 to 10:00:0% chance of precipitation in the area.0″ are predicted by our local models.\\\\n\"}, {\"url\": \"https://www.timeanddate.com/weather/china/beijing/ext\", \"content\": \"Get the weather overview and details for Beijing, China for the next two weeks. See the temperature, precipitation, wind, humidity, UV, sunrise and sunset for each day.\"}]', 'tool_call_id': 'call_qy1wzthDrJyhhXtPvAsE1VxZ', 'name': 'tavily_search_results_json'}]\n",
      "\n",
      "\n",
      "----------------messages end----------------\n",
      "\n",
      "----------------response----------------\n",
      "\n",
      "\n",
      "response:ChatCompletion(id='chatcmpl-91e0AM7d2U3Wv909lT7wXsGNvUjQm', choices=[Choice(finish_reason='stop', index=0, logprobs=None, message=ChatCompletionMessage(content='I found several sources where you can check the weather in Beijing:\\n1. [BBC Weather](https://www.bbc.com/weather/1816670): Provides a 14-day weather forecast for Beijing.\\n2. [Meteoblue](https://www.meteoblue.com/en/weather/14-days/beijing_china_1816670): Shows daily weather symbols, temperature, and precipitation trend for the next two weeks in Beijing based on ensemble models.\\n3. [AccuWeather](https://www.accuweather.com/en/cn/beijing/101924/weather-forecast/101924): Offers current and forecast weather conditions for Beijing, including temperature, precipitation, air quality, and more.\\n4. [Time and Date](https://www.timeanddate.com/weather/china/beijing/ext): Provides a weather overview and details for Beijing for the next two weeks, including temperature, precipitation, wind, humidity, UV index, sunrise, and sunset times.\\n\\nYou can visit these websites to get detailed information about the weather in Beijing.', role='assistant', function_call=None, tool_calls=None))], created=1710179122, model='gpt-3.5-turbo-0125', object='chat.completion', system_fingerprint='fp_4f0b692a78', usage=CompletionUsage(completion_tokens=211, prompt_tokens=913, total_tokens=1124))\n",
      "\n",
      "\n",
      "----------------response end----------------\n",
      "\n",
      "\u001B[32;1m\u001B[1;3mI found several sources where you can check the weather in Beijing:\n",
      "1. [BBC Weather](https://www.bbc.com/weather/1816670): Provides a 14-day weather forecast for Beijing.\n",
      "2. [Meteoblue](https://www.meteoblue.com/en/weather/14-days/beijing_china_1816670): Shows daily weather symbols, temperature, and precipitation trend for the next two weeks in Beijing based on ensemble models.\n",
      "3. [AccuWeather](https://www.accuweather.com/en/cn/beijing/101924/weather-forecast/101924): Offers current and forecast weather conditions for Beijing, including temperature, precipitation, air quality, and more.\n",
      "4. [Time and Date](https://www.timeanddate.com/weather/china/beijing/ext): Provides a weather overview and details for Beijing for the next two weeks, including temperature, precipitation, wind, humidity, UV index, sunrise, and sunset times.\n",
      "\n",
      "You can visit these websites to get detailed information about the weather in Beijing.\u001B[0m\n",
      "\n",
      "\u001B[1m> Finished chain.\u001B[0m\n"
     ]
    },
    {
     "data": {
      "text/plain": "{'input': 'whats the weather in Beijing?',\n 'output': 'I found several sources where you can check the weather in Beijing:\\n1. [BBC Weather](https://www.bbc.com/weather/1816670): Provides a 14-day weather forecast for Beijing.\\n2. [Meteoblue](https://www.meteoblue.com/en/weather/14-days/beijing_china_1816670): Shows daily weather symbols, temperature, and precipitation trend for the next two weeks in Beijing based on ensemble models.\\n3. [AccuWeather](https://www.accuweather.com/en/cn/beijing/101924/weather-forecast/101924): Offers current and forecast weather conditions for Beijing, including temperature, precipitation, air quality, and more.\\n4. [Time and Date](https://www.timeanddate.com/weather/china/beijing/ext): Provides a weather overview and details for Beijing for the next two weeks, including temperature, precipitation, wind, humidity, UV index, sunrise, and sunset times.\\n\\nYou can visit these websites to get detailed information about the weather in Beijing.'}"
     },
     "execution_count": 5,
     "metadata": {},
     "output_type": "execute_result"
    }
   ],
   "source": [
    "agent_executor.invoke({\"input\": \"whats the weather in Beijing?\"})"
   ],
   "metadata": {
    "collapsed": false,
    "ExecuteTime": {
     "end_time": "2024-03-11T17:45:28.343821Z",
     "start_time": "2024-03-11T17:45:17.683039Z"
    }
   },
   "id": "ca44298dbd4dfcc6",
   "execution_count": 5
  },
  {
   "cell_type": "code",
   "outputs": [
    {
     "name": "stdout",
     "output_type": "stream",
     "text": [
      "\n",
      "\n",
      "\u001B[1m> Entering new AgentExecutor chain...\u001B[0m\n",
      "\n",
      "----------------messages----------------\n",
      "\n",
      "\n",
      "messages:[{'role': 'system', 'content': 'You are a helpful assistant'}, {'role': 'user', 'content': 'hi! my name is bob'}, {'role': 'assistant', 'content': 'Hello Bob! How can I assist you today?'}, {'role': 'user', 'content': \"what's my name? Don't use tools to look this up unless you NEED to\"}]\n",
      "\n",
      "\n",
      "----------------messages end----------------\n",
      "\n",
      "----------------response----------------\n",
      "\n",
      "\n",
      "response:ChatCompletion(id='chatcmpl-91e0GPL5WmpUAuHcvSba4NzmSccSg', choices=[Choice(finish_reason='stop', index=0, logprobs=None, message=ChatCompletionMessage(content='Your name is Bob.', role='assistant', function_call=None, tool_calls=None))], created=1710179128, model='gpt-3.5-turbo-0125', object='chat.completion', system_fingerprint='fp_4f0b692a78', usage=CompletionUsage(completion_tokens=6, prompt_tokens=128, total_tokens=134))\n",
      "\n",
      "\n",
      "----------------response end----------------\n",
      "\n",
      "\u001B[32;1m\u001B[1;3mYour name is Bob.\u001B[0m\n",
      "\n",
      "\u001B[1m> Finished chain.\u001B[0m\n"
     ]
    },
    {
     "data": {
      "text/plain": "{'input': \"what's my name? Don't use tools to look this up unless you NEED to\",\n 'chat_history': [HumanMessage(content='hi! my name is bob'),\n  AIMessage(content='Hello Bob! How can I assist you today?')],\n 'output': 'Your name is Bob.'}"
     },
     "execution_count": 6,
     "metadata": {},
     "output_type": "execute_result"
    }
   ],
   "source": [
    "from langchain_core.messages import AIMessage, HumanMessage\n",
    "\n",
    "agent_executor.invoke(\n",
    "    {\n",
    "        \"input\": \"what's my name? Don't use tools to look this up unless you NEED to\",\n",
    "        \"chat_history\": [\n",
    "            HumanMessage(content=\"hi! my name is bob\"),\n",
    "            AIMessage(content=\"Hello Bob! How can I assist you today?\"),\n",
    "        ],\n",
    "    }\n",
    ")"
   ],
   "metadata": {
    "collapsed": false,
    "ExecuteTime": {
     "end_time": "2024-03-11T17:45:29.052230Z",
     "start_time": "2024-03-11T17:45:28.345916Z"
    }
   },
   "id": "2d8bbd4ca98f8c9d",
   "execution_count": 6
  }
 ],
 "metadata": {
  "kernelspec": {
   "display_name": "Python 3",
   "language": "python",
   "name": "python3"
  },
  "language_info": {
   "codemirror_mode": {
    "name": "ipython",
    "version": 2
   },
   "file_extension": ".py",
   "mimetype": "text/x-python",
   "name": "python",
   "nbconvert_exporter": "python",
   "pygments_lexer": "ipython2",
   "version": "2.7.6"
  }
 },
 "nbformat": 4,
 "nbformat_minor": 5
}
