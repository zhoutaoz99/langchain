{
 "cells": [
  {
   "cell_type": "code",
   "execution_count": 2,
   "metadata": {},
   "outputs": [],
   "source": [
    "from dotenv import load_dotenv, find_dotenv\n",
    "_ = load_dotenv(find_dotenv()) #读取本地.env文件，里面定义了OPENAI_API_KEY和代理配置"
   ]
  },
  {
   "cell_type": "code",
   "execution_count": 3,
   "metadata": {},
   "outputs": [],
   "source": [
    "from openai import OpenAI\n",
    "import json\n",
    "\n",
    "def get_completion(messages, model=\"gpt-3.5-turbo\"):\n",
    "    client = OpenAI()\n",
    "    chat_completion = client.chat.completions.create(\n",
    "        model=model,\n",
    "        messages=messages,\n",
    "        temperature=0,\n",
    "        functions=[{\n",
    "                       \"name\": \"sum\",\n",
    "                       \"description\": \"计算数组中所有数字的和\",\n",
    "                       \"parameters\": {\n",
    "                           \"type\": \"object\",\n",
    "                           \"properties\": {\n",
    "                               \"numbers\": {\n",
    "                                   \"type\": \"array\",\n",
    "                                   \"items\": {\n",
    "                                       \"type\": \"number\"\n",
    "                                   }\n",
    "                               }\n",
    "                           }\n",
    "                       }\n",
    "                   }]\n",
    "    )\n",
    "    return chat_completion.choices[0].message"
   ]
  },
  {
   "cell_type": "code",
   "execution_count": 4,
   "metadata": {},
   "outputs": [
    {
     "name": "stdout",
     "output_type": "stream",
     "text": [
      "ChatCompletionMessage(content=None, role='assistant', function_call=FunctionCall(arguments='{\"numbers\":[1,2,3,4,5]}', name='sum'), tool_calls=None)\n",
      "15\n",
      "The sum of 1, 2, 3, 4, and 5 is 15.\n"
     ]
    }
   ],
   "source": [
    "prompt = \"Tell me the sum of 1,2,3,4,5.\"\n",
    "messages = [\n",
    "    {\"role\":\"system\",\"content\":\"你是一个小学数学老师，你要教学生加法\"},\n",
    "    {\"role\":\"user\",\"content\":prompt}\n",
    "]\n",
    "response = get_completion(messages)\n",
    "messages.append(response)#把大模型的回复加到对话中\n",
    "print(response)\n",
    "\n",
    "if(response.function_call):\n",
    "    if(response.function_call.name) == \"sum\":\n",
    "        args = json.loads(response.function_call.arguments)\n",
    "        result = sum(args[\"numbers\"])\n",
    "        print(result)\n",
    "        messages.append(\n",
    "            {\"role\": \"function\",\"name\":\"sum\", \"content\":str(result)})\n",
    "        print(get_completion(messages).content)\n"
   ]
  }
 ],
 "metadata": {
  "kernelspec": {
   "display_name": "Python 3",
   "language": "python",
   "name": "python3"
  },
  "language_info": {
   "codemirror_mode": {
    "name": "ipython",
    "version": 3
   },
   "file_extension": ".py",
   "mimetype": "text/x-python",
   "name": "python",
   "nbconvert_exporter": "python",
   "pygments_lexer": "ipython3",
   "version": "3.10.13"
  }
 },
 "nbformat": 4,
 "nbformat_minor": 2
}
