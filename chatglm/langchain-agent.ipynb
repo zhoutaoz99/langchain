{
 "cells": [
  {
   "cell_type": "code",
   "execution_count": 2,
   "id": "initial_id",
   "metadata": {
    "collapsed": true,
    "ExecuteTime": {
     "end_time": "2024-03-11T17:48:07.784391Z",
     "start_time": "2024-03-11T17:48:07.745701Z"
    }
   },
   "outputs": [
    {
     "data": {
      "text/plain": "True"
     },
     "execution_count": 2,
     "metadata": {},
     "output_type": "execute_result"
    }
   ],
   "source": [
    "from dotenv import load_dotenv\n",
    "load_dotenv()"
   ]
  },
  {
   "cell_type": "code",
   "outputs": [],
   "source": [
    "from langchain_community.tools.tavily_search import TavilySearchResults\n",
    "search = TavilySearchResults()"
   ],
   "metadata": {
    "collapsed": false,
    "ExecuteTime": {
     "end_time": "2024-03-11T17:48:08.514145Z",
     "start_time": "2024-03-11T17:48:07.786459Z"
    }
   },
   "id": "e96ee78990f1ee90",
   "execution_count": 3
  },
  {
   "cell_type": "code",
   "outputs": [
    {
     "data": {
      "text/plain": "[SystemMessagePromptTemplate(prompt=PromptTemplate(input_variables=[], template='You are a helpful assistant')),\n MessagesPlaceholder(variable_name='chat_history', optional=True),\n HumanMessagePromptTemplate(prompt=PromptTemplate(input_variables=['input'], template='{input}')),\n MessagesPlaceholder(variable_name='agent_scratchpad')]"
     },
     "execution_count": 4,
     "metadata": {},
     "output_type": "execute_result"
    }
   ],
   "source": [
    "\n",
    "from chatglm.chat_zhipu_ai import MyChatZhipuAI\n",
    "\n",
    "tools = [search]\n",
    "llm = MyChatZhipuAI(model=\"glm-4\", temperature=0.1)\n",
    "from langchain import hub\n",
    "# Get the prompt to use - you can modify this!\n",
    "prompt = hub.pull(\"hwchase17/openai-tools-agent\")\n",
    "prompt.messages"
   ],
   "metadata": {
    "collapsed": false,
    "ExecuteTime": {
     "end_time": "2024-03-11T17:48:14.387463Z",
     "start_time": "2024-03-11T17:48:08.515142Z"
    }
   },
   "id": "ce2d166d1f6123bd",
   "execution_count": 4
  },
  {
   "cell_type": "code",
   "outputs": [],
   "source": [
    "from langchain.agents import create_openai_tools_agent\n",
    "\n",
    "agent = create_openai_tools_agent(llm, tools, prompt)\n",
    "from langchain.agents import AgentExecutor\n",
    "\n",
    "agent_executor = AgentExecutor(agent=agent, tools=tools, verbose=True)\n"
   ],
   "metadata": {
    "collapsed": false,
    "ExecuteTime": {
     "end_time": "2024-03-11T17:48:16.415499Z",
     "start_time": "2024-03-11T17:48:14.389500Z"
    }
   },
   "id": "b3ee39b9a806a6d4",
   "execution_count": 5
  },
  {
   "cell_type": "code",
   "outputs": [
    {
     "name": "stdout",
     "output_type": "stream",
     "text": [
      "\n",
      "\n",
      "\u001B[1m> Entering new AgentExecutor chain...\u001B[0m\n",
      "\n",
      "----------------messages----------------\n",
      "\n",
      "\n",
      "messages:[{'role': 'system', 'content': 'You are a helpful assistant'}, {'role': 'user', 'content': \"What's the weather like now in Beijing?\"}]\n",
      "\n",
      "\n",
      "----------------messages end----------------\n",
      "\n",
      "----------------response----------------\n",
      "\n",
      "\n",
      "response:model='glm-4' created=1710179414 choices=[CompletionChoice(index=0, finish_reason='tool_calls', message=CompletionMessage(content=None, role='assistant', tool_calls=[CompletionMessageToolCall(id='call_8469014804394446820', function=Function(arguments='{\"query\":\"Beijing weather\"}', name='tavily_search_results_json'), type='function')]))] request_id='8469014804394446820' id='8469014804394446820' usage=CompletionUsage(prompt_tokens=153, completion_tokens=20, total_tokens=173)\n",
      "\n",
      "\n",
      "----------------response end----------------\n",
      "\n",
      "\u001B[32;1m\u001B[1;3m\n",
      "Invoking: `tavily_search_results_json` with `{'query': 'Beijing weather'}`\n",
      "\n",
      "\n",
      "\u001B[0m\u001B[36;1m\u001B[1;3m[{'url': 'https://www.bbc.com/weather/1816670', 'content': '14-day weather forecast for Beijing.'}, {'url': 'https://www.accuweather.com/en/cn/beijing/101924/daily-weather-forecast/101924', 'content': 'Get the latest weather information for Beijing, China, including temperature, precipitation, air quality, and UV index. See the daily forecast for the next two weeks and plan your activities accordingly.'}, {'url': 'https://www.timeanddate.com/weather/china/beijing/hourly', 'content': 'See the current and future weather conditions for Beijing, Beijing Municipality, China. Find out the temperature, precipitation, wind speed and direction for each hour of the day.'}, {'url': 'https://www.accuweather.com/en/cn/beijing/101924/weather-forecast/101924', 'content': 'Get the current and forecast weather conditions for Beijing, China, including temperature, precipitation, wind, and air quality. See the hourly and 10-day outlook, radar maps, and allergy information.'}, {'url': 'https://www.meteoblue.com/en/weather/week/beijing_china_1816670', 'content': '13:00 to 14:00:0% chance of precipitation in the area.0″ are predicted by our local models.\\n14:00 to 15:00:0% chance of precipitation in the area.0″ are predicted by our local models.\\n15:00 to 16:00:0% chance of precipitation in the area.0″ are predicted by our local models.\\n16:00 to 17:00:0% chance of precipitation in the area.0″ are predicted by our local models.\\n17:00 to 18:00:0% chance of precipitation in the area.0″ are predicted by our local models.\\n18:00 to 19:00:0% chance of precipitation in the area.0″ are predicted by our local models.\\n19:00 to 20:00:0% chance of precipitation in the area.0″ are predicted by our local models.\\n Storm Ingunn at Norway’s coast\\nA major storm will hit the West Coast of Norway on Wednesday evening, January 31st 2024.\\n00:00 to 01:00:0% chance of precipitation in the area.0″ are predicted by our local models.\\n01:00 to 02:00:0% chance of precipitation in the area.0″ are predicted by our local models.\\n02:00 to 03:00:0% chance of precipitation in the area.0″ are predicted by our local models.\\n03:00 to 04:00:0% chance of precipitation in the area.0″ are predicted by our local models.\\n04:00 to 05:00:0% chance of precipitation in the area.0″ are predicted by our local models.\\n Language\\nTemperature\\nWind speed\\nPrecipitation\\nDarkmode\\nWeather Beijing\\nForecast data improvements for France\\nAt the beginning of January, we added additional data sources for France to our forecast processing chain, resulting in improved data accuracy for France.\\n 05:00 to 06:00:0% chance of precipitation in the area.0″ are predicted by our local models.\\n06:00 to 07:00:0% chance of precipitation in the area.0″ are predicted by our local models.\\n 08:00 to 09:00:0% chance of precipitation in the area.0″ are predicted by our local models.\\n09:00 to 10:00:0% chance of precipitation in the area.0″ are predicted by our local models.\\n'}]\u001B[0m\n",
      "----------------messages----------------\n",
      "\n",
      "\n",
      "messages:[{'role': 'system', 'content': 'You are a helpful assistant'}, {'role': 'user', 'content': \"What's the weather like now in Beijing?\"}, {'role': 'assistant', 'content': None, 'tool_calls': [{'id': 'call_8469014804394446820', 'function': {'arguments': '{\"query\":\"Beijing weather\"}', 'name': 'tavily_search_results_json'}, 'type': 'function'}]}, {'role': 'tool', 'content': '[{\"url\": \"https://www.bbc.com/weather/1816670\", \"content\": \"14-day weather forecast for Beijing.\"}, {\"url\": \"https://www.accuweather.com/en/cn/beijing/101924/daily-weather-forecast/101924\", \"content\": \"Get the latest weather information for Beijing, China, including temperature, precipitation, air quality, and UV index. See the daily forecast for the next two weeks and plan your activities accordingly.\"}, {\"url\": \"https://www.timeanddate.com/weather/china/beijing/hourly\", \"content\": \"See the current and future weather conditions for Beijing, Beijing Municipality, China. Find out the temperature, precipitation, wind speed and direction for each hour of the day.\"}, {\"url\": \"https://www.accuweather.com/en/cn/beijing/101924/weather-forecast/101924\", \"content\": \"Get the current and forecast weather conditions for Beijing, China, including temperature, precipitation, wind, and air quality. See the hourly and 10-day outlook, radar maps, and allergy information.\"}, {\"url\": \"https://www.meteoblue.com/en/weather/week/beijing_china_1816670\", \"content\": \"13:00 to 14:00:0% chance of precipitation in the area.0″ are predicted by our local models.\\\\n14:00 to 15:00:0% chance of precipitation in the area.0″ are predicted by our local models.\\\\n15:00 to 16:00:0% chance of precipitation in the area.0″ are predicted by our local models.\\\\n16:00 to 17:00:0% chance of precipitation in the area.0″ are predicted by our local models.\\\\n17:00 to 18:00:0% chance of precipitation in the area.0″ are predicted by our local models.\\\\n18:00 to 19:00:0% chance of precipitation in the area.0″ are predicted by our local models.\\\\n19:00 to 20:00:0% chance of precipitation in the area.0″ are predicted by our local models.\\\\n Storm Ingunn at Norway’s coast\\\\nA major storm will hit the West Coast of Norway on Wednesday evening, January 31st 2024.\\\\n00:00 to 01:00:0% chance of precipitation in the area.0″ are predicted by our local models.\\\\n01:00 to 02:00:0% chance of precipitation in the area.0″ are predicted by our local models.\\\\n02:00 to 03:00:0% chance of precipitation in the area.0″ are predicted by our local models.\\\\n03:00 to 04:00:0% chance of precipitation in the area.0″ are predicted by our local models.\\\\n04:00 to 05:00:0% chance of precipitation in the area.0″ are predicted by our local models.\\\\n Language\\\\nTemperature\\\\nWind speed\\\\nPrecipitation\\\\nDarkmode\\\\nWeather Beijing\\\\nForecast data improvements for France\\\\nAt the beginning of January, we added additional data sources for France to our forecast processing chain, resulting in improved data accuracy for France.\\\\n 05:00 to 06:00:0% chance of precipitation in the area.0″ are predicted by our local models.\\\\n06:00 to 07:00:0% chance of precipitation in the area.0″ are predicted by our local models.\\\\n 08:00 to 09:00:0% chance of precipitation in the area.0″ are predicted by our local models.\\\\n09:00 to 10:00:0% chance of precipitation in the area.0″ are predicted by our local models.\\\\n\"}]', 'tool_call_id': 'call_8469014804394446820', 'name': 'tavily_search_results_json'}]\n",
      "\n",
      "\n",
      "----------------messages end----------------\n",
      "\n",
      "----------------response----------------\n",
      "\n",
      "\n",
      "response:model='glm-4' created=1710179461 choices=[CompletionChoice(index=0, finish_reason='stop', message=CompletionMessage(content='According to the search results, here are some useful links for you to check the current weather in Beijing: 1. BBC Weather: 14-day weather forecast for Beijing 2. AccuWeather: Latest weather information for Beijing, China 3. Time and Date: Current and future weather conditions for Beijing, China 4. MeteoBlue: Hourly weather forecast for Beijing, China You can choose any of these links to get the most up-to-date weather information for Beijing.', role='assistant', tool_calls=None))] request_id='8469014770034702065' id='8469014770034702065' usage=CompletionUsage(prompt_tokens=974, completion_tokens=100, total_tokens=1074)\n",
      "\n",
      "\n",
      "----------------response end----------------\n",
      "\n",
      "\u001B[32;1m\u001B[1;3mAccording to the search results, here are some useful links for you to check the current weather in Beijing: 1. BBC Weather: 14-day weather forecast for Beijing 2. AccuWeather: Latest weather information for Beijing, China 3. Time and Date: Current and future weather conditions for Beijing, China 4. MeteoBlue: Hourly weather forecast for Beijing, China You can choose any of these links to get the most up-to-date weather information for Beijing.\u001B[0m\n",
      "\n",
      "\u001B[1m> Finished chain.\u001B[0m\n"
     ]
    },
    {
     "data": {
      "text/plain": "{'input': \"What's the weather like now in Beijing?\",\n 'output': 'According to the search results, here are some useful links for you to check the current weather in Beijing: 1. BBC Weather: 14-day weather forecast for Beijing 2. AccuWeather: Latest weather information for Beijing, China 3. Time and Date: Current and future weather conditions for Beijing, China 4. MeteoBlue: Hourly weather forecast for Beijing, China You can choose any of these links to get the most up-to-date weather information for Beijing.'}"
     },
     "execution_count": 6,
     "metadata": {},
     "output_type": "execute_result"
    }
   ],
   "source": [
    "agent_executor.invoke({\"input\": \"What's the weather like now in Beijing?\"})\n"
   ],
   "metadata": {
    "collapsed": false,
    "ExecuteTime": {
     "end_time": "2024-03-11T17:51:01.837365Z",
     "start_time": "2024-03-11T17:49:29.860992Z"
    }
   },
   "id": "bdee09238705e1a9",
   "execution_count": 6
  },
  {
   "cell_type": "code",
   "outputs": [
    {
     "name": "stdout",
     "output_type": "stream",
     "text": [
      "\n",
      "\n",
      "\u001B[1m> Entering new AgentExecutor chain...\u001B[0m\n",
      "\n",
      "----------------messages----------------\n",
      "\n",
      "\n",
      "messages:[{'role': 'system', 'content': 'You are a helpful assistant'}, {'role': 'user', 'content': 'hi! my name is bob'}, {'role': 'assistant', 'content': 'Hello Bob! How can I assist you today?'}, {'role': 'user', 'content': \"what's my name? Don't use tools to look this up unless you NEED to\"}]\n",
      "\n",
      "\n",
      "----------------messages end----------------\n",
      "\n",
      "----------------response----------------\n",
      "\n",
      "\n",
      "response:model='glm-4' created=1710179555 choices=[CompletionChoice(index=0, finish_reason='stop', message=CompletionMessage(content='Your name is Bob, as you mentioned earlier. How can I help you with anything else?', role='assistant', tool_calls=None))] request_id='8469009169397209207' id='8469009169397209207' usage=CompletionUsage(prompt_tokens=180, completion_tokens=21, total_tokens=201)\n",
      "\n",
      "\n",
      "----------------response end----------------\n",
      "\n",
      "\u001B[32;1m\u001B[1;3mYour name is Bob, as you mentioned earlier. How can I help you with anything else?\u001B[0m\n",
      "\n",
      "\u001B[1m> Finished chain.\u001B[0m\n"
     ]
    },
    {
     "data": {
      "text/plain": "{'input': \"what's my name? Don't use tools to look this up unless you NEED to\",\n 'chat_history': [HumanMessage(content='hi! my name is bob'),\n  AIMessage(content='Hello Bob! How can I assist you today?')],\n 'output': 'Your name is Bob, as you mentioned earlier. How can I help you with anything else?'}"
     },
     "execution_count": 7,
     "metadata": {},
     "output_type": "execute_result"
    }
   ],
   "source": [
    "from langchain_core.messages import AIMessage, HumanMessage\n",
    "\n",
    "agent_executor.invoke(\n",
    "    {\n",
    "        \"input\": \"what's my name? Don't use tools to look this up unless you NEED to\",\n",
    "        \"chat_history\": [\n",
    "            HumanMessage(content=\"hi! my name is bob\"),\n",
    "            AIMessage(content=\"Hello Bob! How can I assist you today?\"),\n",
    "        ],\n",
    "    }\n",
    ")"
   ],
   "metadata": {
    "collapsed": false,
    "ExecuteTime": {
     "end_time": "2024-03-11T17:52:36.015638Z",
     "start_time": "2024-03-11T17:52:34.255743Z"
    }
   },
   "id": "5754d72e95ed340c",
   "execution_count": 7
  }
 ],
 "metadata": {
  "kernelspec": {
   "display_name": "Python 3",
   "language": "python",
   "name": "python3"
  },
  "language_info": {
   "codemirror_mode": {
    "name": "ipython",
    "version": 2
   },
   "file_extension": ".py",
   "mimetype": "text/x-python",
   "name": "python",
   "nbconvert_exporter": "python",
   "pygments_lexer": "ipython2",
   "version": "2.7.6"
  }
 },
 "nbformat": 4,
 "nbformat_minor": 5
}
