{
 "cells": [
  {
   "cell_type": "code",
   "outputs": [
    {
     "data": {
      "text/plain": "True"
     },
     "execution_count": 1,
     "metadata": {},
     "output_type": "execute_result"
    }
   ],
   "source": [
    "from dotenv import load_dotenv\n",
    "load_dotenv()"
   ],
   "metadata": {
    "collapsed": false,
    "ExecuteTime": {
     "end_time": "2024-03-11T18:04:12.666169Z",
     "start_time": "2024-03-11T18:04:12.631493Z"
    }
   },
   "id": "80ed221ded32b1a7",
   "execution_count": 1
  },
  {
   "cell_type": "code",
   "outputs": [],
   "source": [
    "from chatglm.llm_zhipu_ai import ZhipuAILLM\n",
    "from langchain_community.document_loaders import TextLoader\n",
    "from langchain.text_splitter import RecursiveCharacterTextSplitter\n",
    "from langchain_openai import OpenAIEmbeddings\n",
    "from langchain_community.vectorstores import FAISS\n",
    "\n",
    "# 定义文件路径\n",
    "filepath = \"../data/langchain.txt\"\n",
    "\n",
    "# 加载文件\n",
    "loader = TextLoader(filepath, encoding=\"utf-8\")\n",
    "docs = loader.load()\n",
    "\n",
    "# 文本分割\n",
    "text_splitter = RecursiveCharacterTextSplitter(chunk_size=1000, chunk_overlap=400)\n",
    "docs = text_splitter.split_documents(docs)\n",
    "\n",
    "# 构建向量库\n",
    "embeddings = OpenAIEmbeddings()\n",
    "vector_store = FAISS.from_documents(docs, embeddings)\n",
    "\n",
    "# llm生成回答\n",
    "zhipuai_model = ZhipuAILLM(model=\"glm-4\", temperature=0.01)"
   ],
   "metadata": {
    "collapsed": true,
    "ExecuteTime": {
     "end_time": "2024-03-11T18:04:20.456912Z",
     "start_time": "2024-03-11T18:04:12.668377Z"
    }
   },
   "id": "initial_id",
   "execution_count": 2
  },
  {
   "cell_type": "code",
   "outputs": [
    {
     "name": "stdout",
     "output_type": "stream",
     "text": [
      "已知信息: \n",
      "['Introduction\\n\\nLangChain is a framework for developing applications powered by language models. It enables applications that:\\n\\n    Are context-aware: connect a language model to sources of context (prompt instructions, few shot examples, content to ground its response in, etc.)\\n    Reason: rely on a language model to reason (about how to answer based on provided context, what actions to take, etc.)\\n\\nThis framework consists of several parts.', 'Diagram outlining the hierarchical organization of the LangChain framework, displaying the interconnected parts across multiple layers.\\n\\nTogether, these products simplify the entire application lifecycle:\\n\\n    Develop: Write your applications in LangChain/LangChain.js. Hit the ground running using Templates for reference.\\n    Productionize: Use LangSmith to inspect, test and monitor your chains, so that you can constantly improve and deploy with confidence.\\n    Deploy: Turn any chain into an API with LangServe.\\n\\nLangChain Libraries\\n\\nThe main value props of the LangChain packages are:\\n\\n    Components: composable tools and integrations for working with language models. Components are modular and easy-to-use, whether you are using the rest of the LangChain framework or not\\n    Off-the-shelf chains: built-in assemblages of components for accomplishing higher-level tasks', \"Modules\\n\\nLangChain provides standard, extendable interfaces and integrations for the following modules:\\nModel I/O\\n\\nInterface with language models\\nRetrieval\\n\\nInterface with application-specific data\\nAgents\\n\\nLet models choose which tools to use given high-level directives\\nExamples, ecosystem, and resources\\nUse cases\\n\\nWalkthroughs and techniques for common end-to-end use cases, like:\\n\\n    Document question answering\\n    Chatbots\\n    Analyzing structured data\\n    and much more...\\n\\nIntegrations\\n\\nLangChain is part of a rich ecosystem of tools that integrate with our framework and build on top of it. Check out our growing list of integrations.\\nGuides\\n\\nBest practices for developing with LangChain.\\nAPI reference\\n\\nHead to the reference section for full documentation of all classes and methods in the LangChain and LangChain Experimental Python packages.\\nDeveloper's guide\\nCheck out the developer's guide for guidelines on contributing and help getting your dev environment set up.\", \"LangChain Libraries\\n\\nThe main value props of the LangChain packages are:\\n\\n    Components: composable tools and integrations for working with language models. Components are modular and easy-to-use, whether you are using the rest of the LangChain framework or not\\n    Off-the-shelf chains: built-in assemblages of components for accomplishing higher-level tasks\\n\\nOff-the-shelf chains make it easy to get started. Components make it easy to customize existing chains and build new ones.\\n\\nThe LangChain libraries themselves are made up of several different packages.\\n\\n    langchain-core: Base abstractions and LangChain Expression Language.\\n    langchain-community: Third party integrations.\\n    langchain: Chains, agents, and retrieval strategies that make up an application's cognitive architecture.\\n\\nGet started\\n\\nHere’s how to install LangChain, set up your environment, and start building.\"]\n",
      "\n",
      "----------------messages----------------\n",
      "\n",
      "messages:已知信息: \n",
      "['Introduction\\n\\nLangChain is a framework for developing applications powered by language models. It enables applications that:\\n\\n    Are context-aware: connect a language model to sources of context (prompt instructions, few shot examples, content to ground its response in, etc.)\\n    Reason: rely on a language model to reason (about how to answer based on provided context, what actions to take, etc.)\\n\\nThis framework consists of several parts.', 'Diagram outlining the hierarchical organization of the LangChain framework, displaying the interconnected parts across multiple layers.\\n\\nTogether, these products simplify the entire application lifecycle:\\n\\n    Develop: Write your applications in LangChain/LangChain.js. Hit the ground running using Templates for reference.\\n    Productionize: Use LangSmith to inspect, test and monitor your chains, so that you can constantly improve and deploy with confidence.\\n    Deploy: Turn any chain into an API with LangServe.\\n\\nLangChain Libraries\\n\\nThe main value props of the LangChain packages are:\\n\\n    Components: composable tools and integrations for working with language models. Components are modular and easy-to-use, whether you are using the rest of the LangChain framework or not\\n    Off-the-shelf chains: built-in assemblages of components for accomplishing higher-level tasks', \"Modules\\n\\nLangChain provides standard, extendable interfaces and integrations for the following modules:\\nModel I/O\\n\\nInterface with language models\\nRetrieval\\n\\nInterface with application-specific data\\nAgents\\n\\nLet models choose which tools to use given high-level directives\\nExamples, ecosystem, and resources\\nUse cases\\n\\nWalkthroughs and techniques for common end-to-end use cases, like:\\n\\n    Document question answering\\n    Chatbots\\n    Analyzing structured data\\n    and much more...\\n\\nIntegrations\\n\\nLangChain is part of a rich ecosystem of tools that integrate with our framework and build on top of it. Check out our growing list of integrations.\\nGuides\\n\\nBest practices for developing with LangChain.\\nAPI reference\\n\\nHead to the reference section for full documentation of all classes and methods in the LangChain and LangChain Experimental Python packages.\\nDeveloper's guide\\nCheck out the developer's guide for guidelines on contributing and help getting your dev environment set up.\", \"LangChain Libraries\\n\\nThe main value props of the LangChain packages are:\\n\\n    Components: composable tools and integrations for working with language models. Components are modular and easy-to-use, whether you are using the rest of the LangChain framework or not\\n    Off-the-shelf chains: built-in assemblages of components for accomplishing higher-level tasks\\n\\nOff-the-shelf chains make it easy to get started. Components make it easy to customize existing chains and build new ones.\\n\\nThe LangChain libraries themselves are made up of several different packages.\\n\\n    langchain-core: Base abstractions and LangChain Expression Language.\\n    langchain-community: Third party integrations.\\n    langchain: Chains, agents, and retrieval strategies that make up an application's cognitive architecture.\\n\\nGet started\\n\\nHere’s how to install LangChain, set up your environment, and start building.\"]\n",
      "根据已知信息回答问题: \n",
      "Langchian 是什么\n",
      "\n",
      "----------------messages end----------------\n",
      "LangChain 是一个由语言模型驱动的应用程序开发框架。它支持的应用程序能够：\n",
      "\n",
      "- 是上下文感知的：将语言模型连接到上下文来源（如提示指令、少量样本示例、用于支撑其响应的内容等）。\n",
      "- 进行推理：依赖语言模型进行推理（根据提供的上下文如何回答，应该采取哪些行动等）。\n",
      "\n",
      "LangChain 框架包括多个部分，简化了整个应用程序生命周期的开发、生产化和部署：\n",
      "\n",
      "- 开发：使用 LangChain 或 LangChain.js 编写应用程序，利用模板快速启动。\n",
      "- 生产化：使用 LangSmith 检查、测试和监控链，以便可以不断改进并自信地部署。\n",
      "- 部署：使用 LangServe 将任何链转换为 API。\n",
      "\n",
      "LangChain 的主要价值在于其组件和现成的链：\n",
      "\n",
      "- 组件：用于处理语言模型的可组合工具和集成，无论是否使用 LangChain 框架的其他部分，这些组件都是模块化且易于使用的。\n",
      "- 现成的链：内置组件集合，用于完成更高级别的任务。\n",
      "\n",
      "此外，LangChain 还提供了一系列模块、集成、指南、API 参考和开发人员指南，以帮助开发者更好地使用该框架进行开发。\n"
     ]
    }
   ],
   "source": [
    "# 根据提问匹配上下文\n",
    "query = \"Langchian 是什么\"\n",
    "docs = vector_store.similarity_search(query)\n",
    "context = [doc.page_content for doc in docs]\n",
    "\n",
    "# 构造Prompt\n",
    "prompt = f\"已知信息: \\n{context}\\n根据已知信息回答问题: \\n{query}\"\n",
    "print(f\"已知信息: \\n{context}\")\n",
    "print(zhipuai_model.invoke(prompt))"
   ],
   "metadata": {
    "collapsed": false,
    "ExecuteTime": {
     "end_time": "2024-03-11T18:04:29.811349Z",
     "start_time": "2024-03-11T18:04:20.458015Z"
    }
   },
   "id": "1e01340378e1f591",
   "execution_count": 3
  }
 ],
 "metadata": {
  "kernelspec": {
   "display_name": "Python 3",
   "language": "python",
   "name": "python3"
  },
  "language_info": {
   "codemirror_mode": {
    "name": "ipython",
    "version": 2
   },
   "file_extension": ".py",
   "mimetype": "text/x-python",
   "name": "python",
   "nbconvert_exporter": "python",
   "pygments_lexer": "ipython2",
   "version": "2.7.6"
  }
 },
 "nbformat": 4,
 "nbformat_minor": 5
}
